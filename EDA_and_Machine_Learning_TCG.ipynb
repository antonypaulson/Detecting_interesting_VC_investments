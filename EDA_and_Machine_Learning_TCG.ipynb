{
  "nbformat": 4,
  "nbformat_minor": 0,
  "metadata": {
    "colab": {
      "name": "EDA_and_Machine_Learning_TCG",
      "version": "0.3.2",
      "provenance": []
    },
    "kernelspec": {
      "name": "python3",
      "display_name": "Python 3"
    },
    "accelerator": "GPU"
  },
  "cells": [
    {
      "cell_type": "code",
      "metadata": {
        "id": "FtacBUizqPxV",
        "colab_type": "code",
        "colab": {}
      },
      "source": [
        "4#importing libraries\n",
        "import pandas as pd\n",
        "import numpy as np\n",
        "import seaborn as sns\n",
        "import matplotlib.pyplot as plt\n",
        "\n",
        "#Importing models for machine learning\n",
        "import sklearn\n",
        "from sklearn.model_selection import train_test_split, cross_val_score, GridSearchCV\n",
        "from sklearn.linear_model import LinearRegression\n",
        "from sklearn.neighbors import  KNeighborsRegressor\n",
        "from sklearn.tree import DecisionTreeRegressor, ExtraTreeRegressor\n",
        "from sklearn.ensemble import RandomForestRegressor, AdaBoostRegressor, BaggingRegressor\n",
        "from sklearn.metrics import mean_squared_error, r2_score\n",
        "from sklearn.svm import SVR\n",
        "from sklearn.decomposition import PCA\n",
        "from sklearn.preprocessing import StandardScaler"
      ],
      "execution_count": 0,
      "outputs": []
    },
    {
      "cell_type": "code",
      "metadata": {
        "id": "SBfDhCL_qqW-",
        "colab_type": "code",
        "outputId": "aa3da997-d382-4a80-8adb-e0e5e482d729",
        "colab": {
          "base_uri": "https://localhost:8080/",
          "height": 477
        }
      },
      "source": [
        "#Importing the dataframe\n",
        "final_df = pd.read_csv('final_analysis_frame.csv')\n",
        "final_df.drop(columns = 'Unnamed: 0', inplace = True)\n",
        "final_df.head()"
      ],
      "execution_count": 0,
      "outputs": [
        {
          "output_type": "execute_result",
          "data": {
            "text/html": [
              "<div>\n",
              "<style scoped>\n",
              "    .dataframe tbody tr th:only-of-type {\n",
              "        vertical-align: middle;\n",
              "    }\n",
              "\n",
              "    .dataframe tbody tr th {\n",
              "        vertical-align: top;\n",
              "    }\n",
              "\n",
              "    .dataframe thead th {\n",
              "        text-align: right;\n",
              "    }\n",
              "</style>\n",
              "<table border=\"1\" class=\"dataframe\">\n",
              "  <thead>\n",
              "    <tr style=\"text-align: right;\">\n",
              "      <th></th>\n",
              "      <th>itunes_app_id</th>\n",
              "      <th>rating_list</th>\n",
              "      <th>top_rank</th>\n",
              "      <th>top_rank_days</th>\n",
              "      <th>growth</th>\n",
              "      <th>app_name</th>\n",
              "      <th>developer</th>\n",
              "      <th>website</th>\n",
              "      <th>category</th>\n",
              "      <th>is_editor_choice</th>\n",
              "      <th>rating_oo5</th>\n",
              "      <th>num_ratings</th>\n",
              "      <th>has_iap</th>\n",
              "      <th>release_date</th>\n",
              "      <th>current_version</th>\n",
              "      <th>age_rating</th>\n",
              "      <th>file_size</th>\n",
              "      <th>editor_notes</th>\n",
              "      <th>description</th>\n",
              "      <th>os_compatibility</th>\n",
              "      <th>languages</th>\n",
              "      <th>price</th>\n",
              "      <th>itunes_link</th>\n",
              "      <th>date</th>\n",
              "      <th>subscription_service</th>\n",
              "    </tr>\n",
              "  </thead>\n",
              "  <tbody>\n",
              "    <tr>\n",
              "      <th>0</th>\n",
              "      <td>1000008721</td>\n",
              "      <td>Lifestyle - topgrossingapplications</td>\n",
              "      <td>166.0</td>\n",
              "      <td>1</td>\n",
              "      <td>0.0</td>\n",
              "      <td>DYC TongShu</td>\n",
              "      <td>Darren Gibbs</td>\n",
              "      <td>http://darrengibbs.info/TongShu</td>\n",
              "      <td>Lifestyle</td>\n",
              "      <td>False</td>\n",
              "      <td>5.0</td>\n",
              "      <td>6.0</td>\n",
              "      <td>False</td>\n",
              "      <td>09/07/2016</td>\n",
              "      <td>NaN</td>\n",
              "      <td>Rated 4+</td>\n",
              "      <td>10.1 MB</td>\n",
              "      <td>NaN</td>\n",
              "      <td>\\nDescription\\n\\n\\nThe Chinese “tong shu” or a...</td>\n",
              "      <td>Requires iOS 8.0 or later. Compatible with iPh...</td>\n",
              "      <td>English</td>\n",
              "      <td>$9.99</td>\n",
              "      <td>https://itunes.apple.com/app/id1000008721</td>\n",
              "      <td>2019-06-11-1512</td>\n",
              "      <td>0</td>\n",
              "    </tr>\n",
              "    <tr>\n",
              "      <th>1</th>\n",
              "      <td>1000008721</td>\n",
              "      <td>Lifestyle - toppaidapplications</td>\n",
              "      <td>83.0</td>\n",
              "      <td>1</td>\n",
              "      <td>41.0</td>\n",
              "      <td>DYC TongShu</td>\n",
              "      <td>Darren Gibbs</td>\n",
              "      <td>http://darrengibbs.info/TongShu</td>\n",
              "      <td>Lifestyle</td>\n",
              "      <td>False</td>\n",
              "      <td>5.0</td>\n",
              "      <td>6.0</td>\n",
              "      <td>False</td>\n",
              "      <td>09/07/2016</td>\n",
              "      <td>NaN</td>\n",
              "      <td>Rated 4+</td>\n",
              "      <td>10.1 MB</td>\n",
              "      <td>NaN</td>\n",
              "      <td>\\nDescription\\n\\n\\nThe Chinese “tong shu” or a...</td>\n",
              "      <td>Requires iOS 8.0 or later. Compatible with iPh...</td>\n",
              "      <td>English</td>\n",
              "      <td>$9.99</td>\n",
              "      <td>https://itunes.apple.com/app/id1000008721</td>\n",
              "      <td>2019-06-11-1512</td>\n",
              "      <td>0</td>\n",
              "    </tr>\n",
              "    <tr>\n",
              "      <th>2</th>\n",
              "      <td>1000017994</td>\n",
              "      <td>Health-and-fitness - topfreeapplications</td>\n",
              "      <td>16.0</td>\n",
              "      <td>1</td>\n",
              "      <td>72.0</td>\n",
              "      <td>Cardiogram for Apple Watch</td>\n",
              "      <td>Cardiogram, Inc.</td>\n",
              "      <td>https://cardiogr.am</td>\n",
              "      <td>Health &amp; Fitness</td>\n",
              "      <td>False</td>\n",
              "      <td>4.2</td>\n",
              "      <td>2700.0</td>\n",
              "      <td>True</td>\n",
              "      <td>Jun 3, 2019</td>\n",
              "      <td>2.12.0</td>\n",
              "      <td>Rated 12+ for the following:</td>\n",
              "      <td>80.6 MB</td>\n",
              "      <td>NaN</td>\n",
              "      <td>\\nDescription\\n\\n\\nYour Apple Watch measures y...</td>\n",
              "      <td>Requires iOS 9.3 or later. Compatible with iPh...</td>\n",
              "      <td>English</td>\n",
              "      <td>Free</td>\n",
              "      <td>https://itunes.apple.com/app/id1000017994</td>\n",
              "      <td>2019-06-11-1512</td>\n",
              "      <td>1</td>\n",
              "    </tr>\n",
              "    <tr>\n",
              "      <th>3</th>\n",
              "      <td>1000017994</td>\n",
              "      <td>Health-and-fitness - topgrossingapplications</td>\n",
              "      <td>155.0</td>\n",
              "      <td>1</td>\n",
              "      <td>14.0</td>\n",
              "      <td>Cardiogram for Apple Watch</td>\n",
              "      <td>Cardiogram, Inc.</td>\n",
              "      <td>https://cardiogr.am</td>\n",
              "      <td>Health &amp; Fitness</td>\n",
              "      <td>False</td>\n",
              "      <td>4.2</td>\n",
              "      <td>2700.0</td>\n",
              "      <td>True</td>\n",
              "      <td>Jun 3, 2019</td>\n",
              "      <td>2.12.0</td>\n",
              "      <td>Rated 12+ for the following:</td>\n",
              "      <td>80.6 MB</td>\n",
              "      <td>NaN</td>\n",
              "      <td>\\nDescription\\n\\n\\nYour Apple Watch measures y...</td>\n",
              "      <td>Requires iOS 9.3 or later. Compatible with iPh...</td>\n",
              "      <td>English</td>\n",
              "      <td>Free</td>\n",
              "      <td>https://itunes.apple.com/app/id1000017994</td>\n",
              "      <td>2019-06-11-1512</td>\n",
              "      <td>1</td>\n",
              "    </tr>\n",
              "    <tr>\n",
              "      <th>4</th>\n",
              "      <td>1000077500</td>\n",
              "      <td>Medical - topgrossingapplications</td>\n",
              "      <td>71.0</td>\n",
              "      <td>1</td>\n",
              "      <td>30.0</td>\n",
              "      <td>ACLS Advisor 2017 Guidelines</td>\n",
              "      <td>Paul Chan</td>\n",
              "      <td>https://www.facebook.com/pages/Current-Clinica...</td>\n",
              "      <td>Medical</td>\n",
              "      <td>False</td>\n",
              "      <td>1.2</td>\n",
              "      <td>9.0</td>\n",
              "      <td>True</td>\n",
              "      <td>Mar 13, 2017</td>\n",
              "      <td>2017.1</td>\n",
              "      <td>Rated 12+ for the following:</td>\n",
              "      <td>10.3 MB</td>\n",
              "      <td>NaN</td>\n",
              "      <td>\\nDescription\\n\\n\\nACLS Advisor features the N...</td>\n",
              "      <td>Requires iOS 6.0 or later. Compatible with iPh...</td>\n",
              "      <td>English</td>\n",
              "      <td>Free</td>\n",
              "      <td>https://itunes.apple.com/app/id1000077500</td>\n",
              "      <td>2019-06-11-1512</td>\n",
              "      <td>0</td>\n",
              "    </tr>\n",
              "  </tbody>\n",
              "</table>\n",
              "</div>"
            ],
            "text/plain": [
              "   itunes_app_id  ... subscription_service\n",
              "0     1000008721  ...                    0\n",
              "1     1000008721  ...                    0\n",
              "2     1000017994  ...                    1\n",
              "3     1000017994  ...                    1\n",
              "4     1000077500  ...                    0\n",
              "\n",
              "[5 rows x 25 columns]"
            ]
          },
          "metadata": {
            "tags": []
          },
          "execution_count": 5
        }
      ]
    },
    {
      "cell_type": "markdown",
      "metadata": {
        "id": "myuX4cNHYIg4",
        "colab_type": "text"
      },
      "source": [
        "# Exploratory Data Analysis"
      ]
    },
    {
      "cell_type": "code",
      "metadata": {
        "id": "mdcdHT4KYHKx",
        "colab_type": "code",
        "outputId": "724d9ee0-832a-4109-b511-a310677e73a7",
        "colab": {
          "base_uri": "https://localhost:8080/",
          "height": 466
        }
      },
      "source": [
        "#Checking for columns with missing values\n",
        "final_df.isnull().sum()"
      ],
      "execution_count": 0,
      "outputs": [
        {
          "output_type": "execute_result",
          "data": {
            "text/plain": [
              "itunes_app_id                0\n",
              "rating_list                  0\n",
              "top_rank                     0\n",
              "top_rank_days                0\n",
              "growth                       0\n",
              "app_name                     1\n",
              "developer                    0\n",
              "website                    231\n",
              "category                     0\n",
              "is_editor_choice             0\n",
              "rating_oo5               12587\n",
              "num_ratings              12587\n",
              "has_iap                      0\n",
              "release_date              3797\n",
              "current_version           7305\n",
              "age_rating                   0\n",
              "file_size                    0\n",
              "editor_notes            100733\n",
              "description                  0\n",
              "os_compatibility             0\n",
              "languages                    0\n",
              "price                        0\n",
              "itunes_link                  0\n",
              "date                         0\n",
              "subscription_service         0\n",
              "dtype: int64"
            ]
          },
          "metadata": {
            "tags": []
          },
          "execution_count": 6
        }
      ]
    },
    {
      "cell_type": "code",
      "metadata": {
        "id": "eL4bEgP3YHNs",
        "colab_type": "code",
        "colab": {}
      },
      "source": [
        "#Drop less important columns and column with high missing values\n",
        "final_df.drop(columns = ['current_version', 'date', 'os_compatibility', 'editor_notes'], inplace = True)"
      ],
      "execution_count": 0,
      "outputs": []
    },
    {
      "cell_type": "code",
      "metadata": {
        "id": "UwwqngzRYHQX",
        "colab_type": "code",
        "outputId": "e498c410-0fbf-4353-f504-8a2958a31c54",
        "colab": {
          "base_uri": "https://localhost:8080/",
          "height": 198
        }
      },
      "source": [
        "#Since we are going to drop duplicates, it makes sense to replace top rank, top_rank_days, growth\n",
        "ranking_df = final_df.groupby('itunes_app_id', as_index = False).agg({'top_rank': 'min', 'top_rank_days': 'max', 'growth':'max'})\n",
        "ranking_df.head()"
      ],
      "execution_count": 0,
      "outputs": [
        {
          "output_type": "execute_result",
          "data": {
            "text/html": [
              "<div>\n",
              "<style scoped>\n",
              "    .dataframe tbody tr th:only-of-type {\n",
              "        vertical-align: middle;\n",
              "    }\n",
              "\n",
              "    .dataframe tbody tr th {\n",
              "        vertical-align: top;\n",
              "    }\n",
              "\n",
              "    .dataframe thead th {\n",
              "        text-align: right;\n",
              "    }\n",
              "</style>\n",
              "<table border=\"1\" class=\"dataframe\">\n",
              "  <thead>\n",
              "    <tr style=\"text-align: right;\">\n",
              "      <th></th>\n",
              "      <th>itunes_app_id</th>\n",
              "      <th>top_rank</th>\n",
              "      <th>top_rank_days</th>\n",
              "      <th>growth</th>\n",
              "    </tr>\n",
              "  </thead>\n",
              "  <tbody>\n",
              "    <tr>\n",
              "      <th>0</th>\n",
              "      <td>281796108</td>\n",
              "      <td>4.0</td>\n",
              "      <td>2</td>\n",
              "      <td>51.0</td>\n",
              "    </tr>\n",
              "    <tr>\n",
              "      <th>1</th>\n",
              "      <td>281935788</td>\n",
              "      <td>1.0</td>\n",
              "      <td>640</td>\n",
              "      <td>639.0</td>\n",
              "    </tr>\n",
              "    <tr>\n",
              "      <th>2</th>\n",
              "      <td>281940292</td>\n",
              "      <td>2.0</td>\n",
              "      <td>52</td>\n",
              "      <td>48.0</td>\n",
              "    </tr>\n",
              "    <tr>\n",
              "      <th>3</th>\n",
              "      <td>281941097</td>\n",
              "      <td>4.0</td>\n",
              "      <td>124</td>\n",
              "      <td>120.0</td>\n",
              "    </tr>\n",
              "    <tr>\n",
              "      <th>4</th>\n",
              "      <td>282614216</td>\n",
              "      <td>39.0</td>\n",
              "      <td>4</td>\n",
              "      <td>62.0</td>\n",
              "    </tr>\n",
              "  </tbody>\n",
              "</table>\n",
              "</div>"
            ],
            "text/plain": [
              "   itunes_app_id  top_rank  top_rank_days  growth\n",
              "0      281796108       4.0              2    51.0\n",
              "1      281935788       1.0            640   639.0\n",
              "2      281940292       2.0             52    48.0\n",
              "3      281941097       4.0            124   120.0\n",
              "4      282614216      39.0              4    62.0"
            ]
          },
          "metadata": {
            "tags": []
          },
          "execution_count": 8
        }
      ]
    },
    {
      "cell_type": "code",
      "metadata": {
        "id": "zMN5AgqAYHS_",
        "colab_type": "code",
        "outputId": "b23fd067-a5b9-4c68-fc1b-fe04e6a47a50",
        "colab": {
          "base_uri": "https://localhost:8080/",
          "height": 285
        }
      },
      "source": [
        "#Merging the aggregated rankings\n",
        "final_df = pd.merge(final_df,ranking_df, on = 'itunes_app_id')\n",
        "final_df.drop(columns = ['top_rank_x', 'top_rank_days_x', 'growth_x', 'rating_list'], inplace = True)\n",
        "final_df.head()"
      ],
      "execution_count": 0,
      "outputs": [
        {
          "output_type": "execute_result",
          "data": {
            "text/html": [
              "<div>\n",
              "<style scoped>\n",
              "    .dataframe tbody tr th:only-of-type {\n",
              "        vertical-align: middle;\n",
              "    }\n",
              "\n",
              "    .dataframe tbody tr th {\n",
              "        vertical-align: top;\n",
              "    }\n",
              "\n",
              "    .dataframe thead th {\n",
              "        text-align: right;\n",
              "    }\n",
              "</style>\n",
              "<table border=\"1\" class=\"dataframe\">\n",
              "  <thead>\n",
              "    <tr style=\"text-align: right;\">\n",
              "      <th></th>\n",
              "      <th>itunes_app_id</th>\n",
              "      <th>app_name</th>\n",
              "      <th>developer</th>\n",
              "      <th>website</th>\n",
              "      <th>category</th>\n",
              "      <th>is_editor_choice</th>\n",
              "      <th>rating_oo5</th>\n",
              "      <th>num_ratings</th>\n",
              "      <th>has_iap</th>\n",
              "      <th>release_date</th>\n",
              "      <th>age_rating</th>\n",
              "      <th>file_size</th>\n",
              "      <th>description</th>\n",
              "      <th>languages</th>\n",
              "      <th>price</th>\n",
              "      <th>itunes_link</th>\n",
              "      <th>subscription_service</th>\n",
              "      <th>top_rank_y</th>\n",
              "      <th>top_rank_days_y</th>\n",
              "      <th>growth_y</th>\n",
              "    </tr>\n",
              "  </thead>\n",
              "  <tbody>\n",
              "    <tr>\n",
              "      <th>0</th>\n",
              "      <td>1000008721</td>\n",
              "      <td>DYC TongShu</td>\n",
              "      <td>Darren Gibbs</td>\n",
              "      <td>http://darrengibbs.info/TongShu</td>\n",
              "      <td>Lifestyle</td>\n",
              "      <td>False</td>\n",
              "      <td>5.0</td>\n",
              "      <td>6.0</td>\n",
              "      <td>False</td>\n",
              "      <td>09/07/2016</td>\n",
              "      <td>Rated 4+</td>\n",
              "      <td>10.1 MB</td>\n",
              "      <td>\\nDescription\\n\\n\\nThe Chinese “tong shu” or a...</td>\n",
              "      <td>English</td>\n",
              "      <td>$9.99</td>\n",
              "      <td>https://itunes.apple.com/app/id1000008721</td>\n",
              "      <td>0</td>\n",
              "      <td>83.0</td>\n",
              "      <td>1</td>\n",
              "      <td>41.0</td>\n",
              "    </tr>\n",
              "    <tr>\n",
              "      <th>1</th>\n",
              "      <td>1000008721</td>\n",
              "      <td>DYC TongShu</td>\n",
              "      <td>Darren Gibbs</td>\n",
              "      <td>http://darrengibbs.info/TongShu</td>\n",
              "      <td>Lifestyle</td>\n",
              "      <td>False</td>\n",
              "      <td>5.0</td>\n",
              "      <td>6.0</td>\n",
              "      <td>False</td>\n",
              "      <td>09/07/2016</td>\n",
              "      <td>Rated 4+</td>\n",
              "      <td>10.1 MB</td>\n",
              "      <td>\\nDescription\\n\\n\\nThe Chinese “tong shu” or a...</td>\n",
              "      <td>English</td>\n",
              "      <td>$9.99</td>\n",
              "      <td>https://itunes.apple.com/app/id1000008721</td>\n",
              "      <td>0</td>\n",
              "      <td>83.0</td>\n",
              "      <td>1</td>\n",
              "      <td>41.0</td>\n",
              "    </tr>\n",
              "    <tr>\n",
              "      <th>2</th>\n",
              "      <td>1000017994</td>\n",
              "      <td>Cardiogram for Apple Watch</td>\n",
              "      <td>Cardiogram, Inc.</td>\n",
              "      <td>https://cardiogr.am</td>\n",
              "      <td>Health &amp; Fitness</td>\n",
              "      <td>False</td>\n",
              "      <td>4.2</td>\n",
              "      <td>2700.0</td>\n",
              "      <td>True</td>\n",
              "      <td>Jun 3, 2019</td>\n",
              "      <td>Rated 12+ for the following:</td>\n",
              "      <td>80.6 MB</td>\n",
              "      <td>\\nDescription\\n\\n\\nYour Apple Watch measures y...</td>\n",
              "      <td>English</td>\n",
              "      <td>Free</td>\n",
              "      <td>https://itunes.apple.com/app/id1000017994</td>\n",
              "      <td>1</td>\n",
              "      <td>16.0</td>\n",
              "      <td>1</td>\n",
              "      <td>72.0</td>\n",
              "    </tr>\n",
              "    <tr>\n",
              "      <th>3</th>\n",
              "      <td>1000017994</td>\n",
              "      <td>Cardiogram for Apple Watch</td>\n",
              "      <td>Cardiogram, Inc.</td>\n",
              "      <td>https://cardiogr.am</td>\n",
              "      <td>Health &amp; Fitness</td>\n",
              "      <td>False</td>\n",
              "      <td>4.2</td>\n",
              "      <td>2700.0</td>\n",
              "      <td>True</td>\n",
              "      <td>Jun 3, 2019</td>\n",
              "      <td>Rated 12+ for the following:</td>\n",
              "      <td>80.6 MB</td>\n",
              "      <td>\\nDescription\\n\\n\\nYour Apple Watch measures y...</td>\n",
              "      <td>English</td>\n",
              "      <td>Free</td>\n",
              "      <td>https://itunes.apple.com/app/id1000017994</td>\n",
              "      <td>1</td>\n",
              "      <td>16.0</td>\n",
              "      <td>1</td>\n",
              "      <td>72.0</td>\n",
              "    </tr>\n",
              "    <tr>\n",
              "      <th>4</th>\n",
              "      <td>1000077500</td>\n",
              "      <td>ACLS Advisor 2017 Guidelines</td>\n",
              "      <td>Paul Chan</td>\n",
              "      <td>https://www.facebook.com/pages/Current-Clinica...</td>\n",
              "      <td>Medical</td>\n",
              "      <td>False</td>\n",
              "      <td>1.2</td>\n",
              "      <td>9.0</td>\n",
              "      <td>True</td>\n",
              "      <td>Mar 13, 2017</td>\n",
              "      <td>Rated 12+ for the following:</td>\n",
              "      <td>10.3 MB</td>\n",
              "      <td>\\nDescription\\n\\n\\nACLS Advisor features the N...</td>\n",
              "      <td>English</td>\n",
              "      <td>Free</td>\n",
              "      <td>https://itunes.apple.com/app/id1000077500</td>\n",
              "      <td>0</td>\n",
              "      <td>71.0</td>\n",
              "      <td>1</td>\n",
              "      <td>30.0</td>\n",
              "    </tr>\n",
              "  </tbody>\n",
              "</table>\n",
              "</div>"
            ],
            "text/plain": [
              "   itunes_app_id                      app_name  ... top_rank_days_y growth_y\n",
              "0     1000008721                   DYC TongShu  ...               1     41.0\n",
              "1     1000008721                   DYC TongShu  ...               1     41.0\n",
              "2     1000017994    Cardiogram for Apple Watch  ...               1     72.0\n",
              "3     1000017994    Cardiogram for Apple Watch  ...               1     72.0\n",
              "4     1000077500  ACLS Advisor 2017 Guidelines  ...               1     30.0\n",
              "\n",
              "[5 rows x 20 columns]"
            ]
          },
          "metadata": {
            "tags": []
          },
          "execution_count": 9
        }
      ]
    },
    {
      "cell_type": "code",
      "metadata": {
        "id": "p0Wj4QE3YHVo",
        "colab_type": "code",
        "colab": {}
      },
      "source": [
        "#Duplicate removal\n",
        "final_df.drop_duplicates(subset = 'itunes_app_id', keep = 'first', inplace = True)"
      ],
      "execution_count": 0,
      "outputs": []
    },
    {
      "cell_type": "code",
      "metadata": {
        "id": "vCPEgTi3YHYT",
        "colab_type": "code",
        "outputId": "3d7106a9-5653-43af-fe78-96c72541205c",
        "colab": {
          "base_uri": "https://localhost:8080/",
          "height": 78
        }
      },
      "source": [
        "#interesting find\n",
        "final_df[final_df['app_name'].isnull()]\n",
        "#The name of the app was NA (:D)"
      ],
      "execution_count": 0,
      "outputs": [
        {
          "output_type": "execute_result",
          "data": {
            "text/html": [
              "<div>\n",
              "<style scoped>\n",
              "    .dataframe tbody tr th:only-of-type {\n",
              "        vertical-align: middle;\n",
              "    }\n",
              "\n",
              "    .dataframe tbody tr th {\n",
              "        vertical-align: top;\n",
              "    }\n",
              "\n",
              "    .dataframe thead th {\n",
              "        text-align: right;\n",
              "    }\n",
              "</style>\n",
              "<table border=\"1\" class=\"dataframe\">\n",
              "  <thead>\n",
              "    <tr style=\"text-align: right;\">\n",
              "      <th></th>\n",
              "      <th>itunes_app_id</th>\n",
              "      <th>app_name</th>\n",
              "      <th>developer</th>\n",
              "      <th>website</th>\n",
              "      <th>category</th>\n",
              "      <th>is_editor_choice</th>\n",
              "      <th>rating_oo5</th>\n",
              "      <th>num_ratings</th>\n",
              "      <th>has_iap</th>\n",
              "      <th>release_date</th>\n",
              "      <th>age_rating</th>\n",
              "      <th>file_size</th>\n",
              "      <th>description</th>\n",
              "      <th>languages</th>\n",
              "      <th>price</th>\n",
              "      <th>itunes_link</th>\n",
              "      <th>subscription_service</th>\n",
              "      <th>top_rank_y</th>\n",
              "      <th>top_rank_days_y</th>\n",
              "      <th>growth_y</th>\n",
              "    </tr>\n",
              "  </thead>\n",
              "  <tbody>\n",
              "    <tr>\n",
              "      <th>63375</th>\n",
              "      <td>449134868</td>\n",
              "      <td>NaN</td>\n",
              "      <td>Promedia</td>\n",
              "      <td>http://na.se/app</td>\n",
              "      <td>News</td>\n",
              "      <td>False</td>\n",
              "      <td>NaN</td>\n",
              "      <td>NaN</td>\n",
              "      <td>True</td>\n",
              "      <td>May 30, 2019</td>\n",
              "      <td>Rated 4+</td>\n",
              "      <td>16.7 MB</td>\n",
              "      <td>\\nDescription\\n\\n\\nNu tar vi lokala nyheter än...</td>\n",
              "      <td>English</td>\n",
              "      <td>Free</td>\n",
              "      <td>https://itunes.apple.com/app/id449134868</td>\n",
              "      <td>0</td>\n",
              "      <td>109.0</td>\n",
              "      <td>1</td>\n",
              "      <td>27.0</td>\n",
              "    </tr>\n",
              "  </tbody>\n",
              "</table>\n",
              "</div>"
            ],
            "text/plain": [
              "       itunes_app_id app_name developer  ... top_rank_y top_rank_days_y  growth_y\n",
              "63375      449134868      NaN  Promedia  ...      109.0               1      27.0\n",
              "\n",
              "[1 rows x 20 columns]"
            ]
          },
          "metadata": {
            "tags": []
          },
          "execution_count": 11
        }
      ]
    },
    {
      "cell_type": "code",
      "metadata": {
        "id": "AwV5crNFYHa9",
        "colab_type": "code",
        "colab": {}
      },
      "source": [
        "#Imputing null values for features in rating_oo5 and num_ratings features\n",
        "#Creating a slice from the original dataframe\n",
        "df1 = final_df[['category', 'rating_oo5', 'num_ratings']]\n",
        "ratings_cat_group = df1.groupby('category').mean()"
      ],
      "execution_count": 0,
      "outputs": []
    },
    {
      "cell_type": "code",
      "metadata": {
        "id": "miCA3hxtYHdj",
        "colab_type": "code",
        "outputId": "70582528-29d8-405c-9ae5-c21f47c04fa9",
        "colab": {
          "base_uri": "https://localhost:8080/",
          "height": 319
        }
      },
      "source": [
        "#Filling null values with the average in the application category\n",
        "rating_null_fill = final_df[(final_df['rating_oo5'].isnull()) & (final_df['num_ratings'].isnull())][['itunes_app_id','category', 'rating_oo5', 'num_ratings']]\n",
        "rating_null_fill['rating_oo5'] = rating_null_fill['category'].apply(lambda a: np.round(ratings_cat_group.loc[a]['rating_oo5'],2))\n",
        "rating_null_fill['num_ratings'] = rating_null_fill['category'].apply(lambda a: np.round(ratings_cat_group.loc[a]['num_ratings'],0))\n",
        "rating_null_fill.drop(columns = 'category', inplace = True)\n",
        "\n",
        "#Remerging into the final dataframe\n",
        "final_df = pd.merge(final_df, rating_null_fill, how = 'left', on = 'itunes_app_id')\n",
        "final_df['rating_oo5_x'].fillna(final_df['rating_oo5_y'], inplace = True)\n",
        "final_df['num_ratings_x'].fillna(final_df['num_ratings_y'], inplace = True)\n",
        "final_df.drop(columns = ['rating_oo5_y', 'num_ratings_y'], inplace = True)\n",
        "final_df.head()"
      ],
      "execution_count": 0,
      "outputs": [
        {
          "output_type": "execute_result",
          "data": {
            "text/html": [
              "<div>\n",
              "<style scoped>\n",
              "    .dataframe tbody tr th:only-of-type {\n",
              "        vertical-align: middle;\n",
              "    }\n",
              "\n",
              "    .dataframe tbody tr th {\n",
              "        vertical-align: top;\n",
              "    }\n",
              "\n",
              "    .dataframe thead th {\n",
              "        text-align: right;\n",
              "    }\n",
              "</style>\n",
              "<table border=\"1\" class=\"dataframe\">\n",
              "  <thead>\n",
              "    <tr style=\"text-align: right;\">\n",
              "      <th></th>\n",
              "      <th>itunes_app_id</th>\n",
              "      <th>app_name</th>\n",
              "      <th>developer</th>\n",
              "      <th>website</th>\n",
              "      <th>category</th>\n",
              "      <th>is_editor_choice</th>\n",
              "      <th>rating_oo5_x</th>\n",
              "      <th>num_ratings_x</th>\n",
              "      <th>has_iap</th>\n",
              "      <th>release_date</th>\n",
              "      <th>age_rating</th>\n",
              "      <th>file_size</th>\n",
              "      <th>description</th>\n",
              "      <th>languages</th>\n",
              "      <th>price</th>\n",
              "      <th>itunes_link</th>\n",
              "      <th>subscription_service</th>\n",
              "      <th>top_rank_y</th>\n",
              "      <th>top_rank_days_y</th>\n",
              "      <th>growth_y</th>\n",
              "    </tr>\n",
              "  </thead>\n",
              "  <tbody>\n",
              "    <tr>\n",
              "      <th>0</th>\n",
              "      <td>1000008721</td>\n",
              "      <td>DYC TongShu</td>\n",
              "      <td>Darren Gibbs</td>\n",
              "      <td>http://darrengibbs.info/TongShu</td>\n",
              "      <td>Lifestyle</td>\n",
              "      <td>False</td>\n",
              "      <td>5.0</td>\n",
              "      <td>6.0</td>\n",
              "      <td>False</td>\n",
              "      <td>09/07/2016</td>\n",
              "      <td>Rated 4+</td>\n",
              "      <td>10.1 MB</td>\n",
              "      <td>\\nDescription\\n\\n\\nThe Chinese “tong shu” or a...</td>\n",
              "      <td>English</td>\n",
              "      <td>$9.99</td>\n",
              "      <td>https://itunes.apple.com/app/id1000008721</td>\n",
              "      <td>0</td>\n",
              "      <td>83.0</td>\n",
              "      <td>1</td>\n",
              "      <td>41.0</td>\n",
              "    </tr>\n",
              "    <tr>\n",
              "      <th>1</th>\n",
              "      <td>1000017994</td>\n",
              "      <td>Cardiogram for Apple Watch</td>\n",
              "      <td>Cardiogram, Inc.</td>\n",
              "      <td>https://cardiogr.am</td>\n",
              "      <td>Health &amp; Fitness</td>\n",
              "      <td>False</td>\n",
              "      <td>4.2</td>\n",
              "      <td>2700.0</td>\n",
              "      <td>True</td>\n",
              "      <td>Jun 3, 2019</td>\n",
              "      <td>Rated 12+ for the following:</td>\n",
              "      <td>80.6 MB</td>\n",
              "      <td>\\nDescription\\n\\n\\nYour Apple Watch measures y...</td>\n",
              "      <td>English</td>\n",
              "      <td>Free</td>\n",
              "      <td>https://itunes.apple.com/app/id1000017994</td>\n",
              "      <td>1</td>\n",
              "      <td>16.0</td>\n",
              "      <td>1</td>\n",
              "      <td>72.0</td>\n",
              "    </tr>\n",
              "    <tr>\n",
              "      <th>2</th>\n",
              "      <td>1000077500</td>\n",
              "      <td>ACLS Advisor 2017 Guidelines</td>\n",
              "      <td>Paul Chan</td>\n",
              "      <td>https://www.facebook.com/pages/Current-Clinica...</td>\n",
              "      <td>Medical</td>\n",
              "      <td>False</td>\n",
              "      <td>1.2</td>\n",
              "      <td>9.0</td>\n",
              "      <td>True</td>\n",
              "      <td>Mar 13, 2017</td>\n",
              "      <td>Rated 12+ for the following:</td>\n",
              "      <td>10.3 MB</td>\n",
              "      <td>\\nDescription\\n\\n\\nACLS Advisor features the N...</td>\n",
              "      <td>English</td>\n",
              "      <td>Free</td>\n",
              "      <td>https://itunes.apple.com/app/id1000077500</td>\n",
              "      <td>0</td>\n",
              "      <td>71.0</td>\n",
              "      <td>1</td>\n",
              "      <td>30.0</td>\n",
              "    </tr>\n",
              "    <tr>\n",
              "      <th>3</th>\n",
              "      <td>1000103741</td>\n",
              "      <td>Mini Taiko</td>\n",
              "      <td>Jason Lew</td>\n",
              "      <td>http://minitaiko.com</td>\n",
              "      <td>Music</td>\n",
              "      <td>False</td>\n",
              "      <td>5.0</td>\n",
              "      <td>4.0</td>\n",
              "      <td>True</td>\n",
              "      <td>Aug 6, 2015</td>\n",
              "      <td>Rated 4+</td>\n",
              "      <td>31 MB</td>\n",
              "      <td>\\nDescription\\n\\n\\nMini Taiko puts the awesome...</td>\n",
              "      <td>English, Japanese</td>\n",
              "      <td>$1.99</td>\n",
              "      <td>https://itunes.apple.com/app/id1000103741</td>\n",
              "      <td>0</td>\n",
              "      <td>79.0</td>\n",
              "      <td>1</td>\n",
              "      <td>37.0</td>\n",
              "    </tr>\n",
              "    <tr>\n",
              "      <th>4</th>\n",
              "      <td>1000129248</td>\n",
              "      <td>Life Budget - Personal Finance &amp; Money Management</td>\n",
              "      <td>Farzad Farhoosh</td>\n",
              "      <td>http://lifebudgetapp.com</td>\n",
              "      <td>Finance</td>\n",
              "      <td>False</td>\n",
              "      <td>4.3</td>\n",
              "      <td>58.0</td>\n",
              "      <td>True</td>\n",
              "      <td>Jan 13, 2016</td>\n",
              "      <td>Rated 4+</td>\n",
              "      <td>54.2 MB</td>\n",
              "      <td>\\nDescription\\n\\n\\nLife Budget - Personal Fina...</td>\n",
              "      <td>English, Dutch, French, German, Russian, Simpl...</td>\n",
              "      <td>Free</td>\n",
              "      <td>https://itunes.apple.com/app/id1000129248</td>\n",
              "      <td>0</td>\n",
              "      <td>71.0</td>\n",
              "      <td>1</td>\n",
              "      <td>72.0</td>\n",
              "    </tr>\n",
              "  </tbody>\n",
              "</table>\n",
              "</div>"
            ],
            "text/plain": [
              "   itunes_app_id  ... growth_y\n",
              "0     1000008721  ...     41.0\n",
              "1     1000017994  ...     72.0\n",
              "2     1000077500  ...     30.0\n",
              "3     1000103741  ...     37.0\n",
              "4     1000129248  ...     72.0\n",
              "\n",
              "[5 rows x 20 columns]"
            ]
          },
          "metadata": {
            "tags": []
          },
          "execution_count": 13
        }
      ]
    },
    {
      "cell_type": "code",
      "metadata": {
        "id": "QH4QD_1iYHgL",
        "colab_type": "code",
        "colab": {}
      },
      "source": [
        "#Handling missing values for website and app name\n",
        "\n",
        "#app_name\n",
        "final_df['app_name'].fillna('name: NA', inplace = True)\n",
        "\n",
        "#website\n",
        "final_df['website'].fillna('Not Available', inplace = True)"
      ],
      "execution_count": 0,
      "outputs": []
    },
    {
      "cell_type": "code",
      "metadata": {
        "id": "LuwI16olYHjD",
        "colab_type": "code",
        "colab": {}
      },
      "source": [
        "#Converting the release date to the date time format\n",
        "final_df[\"release_date\"]= pd.to_datetime(final_df[\"release_date\"])"
      ],
      "execution_count": 0,
      "outputs": []
    },
    {
      "cell_type": "code",
      "metadata": {
        "id": "oLNMQ1ALYHlb",
        "colab_type": "code",
        "colab": {}
      },
      "source": [
        "#Changing file size to a numerical column\n",
        "final_df['file_size'] = final_df['file_size'].apply(lambda a: float(a[:-3]))"
      ],
      "execution_count": 0,
      "outputs": []
    },
    {
      "cell_type": "code",
      "metadata": {
        "id": "IJlW8rZMYHoJ",
        "colab_type": "code",
        "colab": {}
      },
      "source": [
        "#Changing the languages column into lists of supported languages\n",
        "final_df['languages'] = final_df['languages'].apply(lambda a: a.split(','))\n",
        "#Creating a new column as number of languages supported\n",
        "final_df['n_languages'] = final_df['languages'].apply(lambda a: len(a))"
      ],
      "execution_count": 0,
      "outputs": []
    },
    {
      "cell_type": "code",
      "metadata": {
        "id": "2ILpBqwiYHqt",
        "colab_type": "code",
        "colab": {}
      },
      "source": [
        "#Data cleaning for price column\n",
        "final_df['price'] = final_df['price'].apply(lambda a: 0 if 'Free' in str(a) else a)\n",
        "final_df['price'] = final_df['price'].apply(lambda a: a.replace('$', '') if '$' in str(a) else a)\n",
        "final_df['price'] = final_df['price'].apply(lambda a: float(a))"
      ],
      "execution_count": 0,
      "outputs": []
    },
    {
      "cell_type": "code",
      "metadata": {
        "id": "zAz8oydBYHtv",
        "colab_type": "code",
        "colab": {}
      },
      "source": [
        "#Cleaning the age_rating tab\n",
        "final_df['age_rating'] = final_df['age_rating'].apply(lambda a: '4+' if '4' in str(a) else a)\n",
        "final_df['age_rating'] = final_df['age_rating'].apply(lambda a: '12+' if '12' in str(a) else a)\n",
        "final_df['age_rating'] = final_df['age_rating'].apply(lambda a: '17+' if '17' in str(a) else a)\n",
        "final_df['age_rating'] = final_df['age_rating'].apply(lambda a: '9+' if '9' in str(a) else a)"
      ],
      "execution_count": 0,
      "outputs": []
    },
    {
      "cell_type": "code",
      "metadata": {
        "id": "TyNHuy49YHwL",
        "colab_type": "code",
        "colab": {}
      },
      "source": [
        "#Creating a column for active days after release\n",
        "final_df['curr_date'] = np.nan\n",
        "final_df['curr_date'].fillna('2019-06-11', inplace = True)\n",
        "final_df['release_date'].fillna('2019-06-11', inplace = True)\n",
        "final_df['curr_date'] = pd.to_datetime(final_df['curr_date'])\n",
        "final_df['release_date'] = pd.to_datetime(final_df['release_date'])\n"
      ],
      "execution_count": 0,
      "outputs": []
    },
    {
      "cell_type": "code",
      "metadata": {
        "id": "sgFsAoMgeaBF",
        "colab_type": "code",
        "colab": {}
      },
      "source": [
        "#Renaming growth columns for clarity\n",
        "final_df.rename(columns={\"top_rank_y\": \"top_rank\", \"top_rank_days_y\": \"top_rank_days\", \"growth_y\":\"rank_growth\"}, inplace= True)"
      ],
      "execution_count": 0,
      "outputs": []
    },
    {
      "cell_type": "code",
      "metadata": {
        "id": "Vrs2Zm5xeaEG",
        "colab_type": "code",
        "colab": {}
      },
      "source": [
        "#Renaming rating columns for clarity\n",
        "final_df.rename(columns={\"rating_oo5_x\": \"rating_oo5\", \"num_ratings_x\": \"num_ratings\"}, inplace= True)"
      ],
      "execution_count": 0,
      "outputs": []
    },
    {
      "cell_type": "markdown",
      "metadata": {
        "id": "N4dzTskqhgQI",
        "colab_type": "text"
      },
      "source": [
        "# Feature Engineering from the ranking panel"
      ]
    },
    {
      "cell_type": "code",
      "metadata": {
        "id": "V2KQRZqxeaHO",
        "colab_type": "code",
        "colab": {}
      },
      "source": [
        "#Creating a column for active days of the app\n",
        "final_df['active_days'] = (final_df['curr_date'] - final_df['release_date']).dt.days\n",
        "\n",
        "#Calculating Daily Growth\n",
        "final_df['avg_daily_growth'] = np.nan\n",
        "daily_growth = []\n",
        "for i,j in enumerate(final_df['active_days']):\n",
        "  grth = final_df.loc[i]['rank_growth']\n",
        "  if 0 < j < 1095: \n",
        "    daily_growth.append(grth/j)\n",
        "  else:\n",
        "    daily_growth.append(grth/1095)\n",
        "final_df['avg_daily_growth'] = daily_growth\n",
        "final_df['avg_daily_growth'].fillna(0, inplace = True)\n",
        "\n",
        "#Max growth rate column\n",
        "final_df['max_growth_rate'] = (final_df['rank_growth']/(final_df['top_rank'] + final_df['rank_growth'])) * 100"
      ],
      "execution_count": 0,
      "outputs": []
    },
    {
      "cell_type": "markdown",
      "metadata": {
        "id": "j3ahSH91ikMx",
        "colab_type": "text"
      },
      "source": [
        "# Different Visualisations"
      ]
    },
    {
      "cell_type": "code",
      "metadata": {
        "id": "d12vK_f9eaNt",
        "colab_type": "code",
        "outputId": "f50fc959-f292-40f1-cc2c-da9b8f8ab048",
        "colab": {
          "base_uri": "https://localhost:8080/",
          "height": 487
        }
      },
      "source": [
        "#Features that are highly correlated to rank growth\n",
        "plt.figure(figsize = (16,8))\n",
        "focus = final_df.corr()[['rank_growth']].sort_values(by = 'rank_growth', ascending = False)\n",
        "sns.heatmap(focus, cmap ='coolwarm', annot = True);"
      ],
      "execution_count": 0,
      "outputs": [
        {
          "output_type": "display_data",
          "data": {
            "image/png": "[encoded data removed]",
            "text/plain": [
              "<Figure size 1152x576 with 2 Axes>"
            ]
          },
          "metadata": {
            "tags": []
          }
        }
      ]
    },
    {
      "cell_type": "code",
      "metadata": {
        "id": "uzBVCyGwiLCa",
        "colab_type": "code",
        "outputId": "aa021caa-b219-4514-fb2b-8d2acaa5647c",
        "colab": {
          "base_uri": "https://localhost:8080/",
          "height": 501
        }
      },
      "source": [
        "#Distribution of rank growth\n",
        "plt.figure(figsize = (16,8))\n",
        "sns.distplot(final_df['rank_growth']);"
      ],
      "execution_count": 0,
      "outputs": [
        {
          "output_type": "display_data",
          "data": {
            "image/png": "[encoded data removed]",
            "text/plain": [
              "<Figure size 1152x576 with 1 Axes>"
            ]
          },
          "metadata": {
            "tags": []
          }
        }
      ]
    },
    {
      "cell_type": "code",
      "metadata": {
        "id": "CxE5cjattyJa",
        "colab_type": "code",
        "outputId": "9bb4f6c9-2b30-4df7-b0ac-3465b8e8ad9e",
        "colab": {
          "base_uri": "https://localhost:8080/",
          "height": 501
        }
      },
      "source": [
        "#Distribution of top rank days\n",
        "plt.figure(figsize = (16,8))\n",
        "sns.distplot(np.log(final_df['top_rank_days']));"
      ],
      "execution_count": 0,
      "outputs": [
        {
          "output_type": "display_data",
          "data": {
            "image/png": "[encoded data removed]",
            "text/plain": [
              "<Figure size 1152x576 with 1 Axes>"
            ]
          },
          "metadata": {
            "tags": []
          }
        }
      ]
    },
    {
      "cell_type": "code",
      "metadata": {
        "id": "TyKLSYRZiLE3",
        "colab_type": "code",
        "outputId": "97f5e932-7dff-4bc6-f3b7-dc654c9af555",
        "colab": {
          "base_uri": "https://localhost:8080/",
          "height": 422
        }
      },
      "source": [
        "#Number of categories of apps in the store\n",
        "x = final_df.category\n",
        "fig, ax = plt.subplots()\n",
        "fig.set_size_inches(15, 6)\n",
        "fig.autofmt_xdate()\n",
        "no_of_cat_plot = sns.categorical.countplot(x)\n",
        "plt.show()"
      ],
      "execution_count": 0,
      "outputs": [
        {
          "output_type": "display_data",
          "data": {
            "image/png": "[encoded data removed]",
            "text/plain": [
              "<Figure size 1080x432 with 1 Axes>"
            ]
          },
          "metadata": {
            "tags": []
          }
        }
      ]
    },
    {
      "cell_type": "code",
      "metadata": {
        "id": "_Gp4ogmSiLHj",
        "colab_type": "code",
        "outputId": "6a82809d-c6ba-4959-9e48-f36806d7a0c8",
        "colab": {
          "base_uri": "https://localhost:8080/",
          "height": 491
        }
      },
      "source": [
        "#Box plot to check the number of languages supported\n",
        "plt.figure(figsize = (16,8))\n",
        "sns.boxplot(y = final_df['n_languages'])"
      ],
      "execution_count": 0,
      "outputs": [
        {
          "output_type": "execute_result",
          "data": {
            "text/plain": [
              "<matplotlib.axes._subplots.AxesSubplot at 0x7f8b9f8542b0>"
            ]
          },
          "metadata": {
            "tags": []
          },
          "execution_count": 28
        },
        {
          "output_type": "display_data",
          "data": {
            "image/png": "[encoded data removed]",
            "text/plain": [
              "<Figure size 1152x576 with 1 Axes>"
            ]
          },
          "metadata": {
            "tags": []
          }
        }
      ]
    },
    {
      "cell_type": "markdown",
      "metadata": {
        "id": "txYrsbYCnWEG",
        "colab_type": "text"
      },
      "source": [
        "# Machine Learning Models Application"
      ]
    },
    {
      "cell_type": "markdown",
      "metadata": {
        "id": "B1wZ8J2Gncle",
        "colab_type": "text"
      },
      "source": [
        "## Supervised Learning models"
      ]
    },
    {
      "cell_type": "code",
      "metadata": {
        "id": "qTqnbNx6r8UE",
        "colab_type": "code",
        "colab": {}
      },
      "source": [
        "#Creating dummy variables for categorical columns\n",
        "dummy = pd.get_dummies(final_df[['category', 'age_rating']], drop_first = False)\n",
        "#Dropping categorical columns after dummy creation and merging into a final dataframe\n",
        "final_df.drop(['category', 'age_rating'],1,inplace = True)\n",
        "final_df = pd.concat([final_df, dummy], 1)"
      ],
      "execution_count": 0,
      "outputs": []
    },
    {
      "cell_type": "code",
      "metadata": {
        "id": "aVpqjqy_sLqL",
        "colab_type": "code",
        "outputId": "c4d1a762-c8b6-41f5-9c0b-bd1ac79ca16a",
        "colab": {
          "base_uri": "https://localhost:8080/",
          "height": 294
        }
      },
      "source": [
        "final_df.columns"
      ],
      "execution_count": 0,
      "outputs": [
        {
          "output_type": "execute_result",
          "data": {
            "text/plain": [
              "Index(['itunes_app_id', 'app_name', 'developer', 'website', 'is_editor_choice',\n",
              "       'rating_oo5', 'num_ratings', 'has_iap', 'release_date', 'file_size',\n",
              "       'description', 'languages', 'price', 'itunes_link',\n",
              "       'subscription_service', 'top_rank', 'top_rank_days', 'rank_growth',\n",
              "       'n_languages', 'curr_date', 'active_days', 'avg_daily_growth',\n",
              "       'max_growth_rate', 'category_Books', 'category_Business',\n",
              "       'category_Education', 'category_Entertainment', 'category_Finance',\n",
              "       'category_Food & Drink', 'category_Games', 'category_Health & Fitness',\n",
              "       'category_Lifestyle', 'category_Magazines & Newspapers',\n",
              "       'category_Medical', 'category_Music', 'category_Navigation',\n",
              "       'category_News', 'category_Photo & Video', 'category_Productivity',\n",
              "       'category_Reference', 'category_Shopping', 'category_Social Networking',\n",
              "       'category_Sports', 'category_Travel', 'category_Utilities',\n",
              "       'category_Weather', 'age_rating_12+', 'age_rating_17+', 'age_rating_4+',\n",
              "       'age_rating_9+', 'age_rating_Not yet rated'],\n",
              "      dtype='object')"
            ]
          },
          "metadata": {
            "tags": []
          },
          "execution_count": 30
        }
      ]
    },
    {
      "cell_type": "code",
      "metadata": {
        "id": "TDK6Q-L8sQh2",
        "colab_type": "code",
        "colab": {}
      },
      "source": [
        "feat = ['is_editor_choice','rating_oo5', 'num_ratings', 'has_iap', 'file_size',\n",
        "        'price','subscription_service', 'top_rank', 'rank_growth',\n",
        "       'n_languages', 'active_days', 'avg_daily_growth',\n",
        "       'max_growth_rate', 'category_Books', 'category_Business',\n",
        "       'category_Education', 'category_Entertainment', 'category_Finance',\n",
        "       'category_Food & Drink', 'category_Games', 'category_Health & Fitness',\n",
        "       'category_Lifestyle', 'category_Magazines & Newspapers',\n",
        "       'category_Medical', 'category_Music', 'category_Navigation',\n",
        "       'category_News', 'category_Photo & Video', 'category_Productivity',\n",
        "       'category_Reference', 'category_Shopping', 'category_Social Networking',\n",
        "       'category_Sports', 'category_Travel', 'category_Utilities',\n",
        "       'category_Weather', 'age_rating_12+', 'age_rating_17+', 'age_rating_4+',\n",
        "       'age_rating_9+', 'age_rating_Not yet rated']"
      ],
      "execution_count": 0,
      "outputs": []
    },
    {
      "cell_type": "code",
      "metadata": {
        "id": "plAl9tmOsbYj",
        "colab_type": "code",
        "colab": {}
      },
      "source": [
        "#Defining our X and Y variables\n",
        "X = final_df[feat]\n",
        "y = final_df['top_rank_days']"
      ],
      "execution_count": 0,
      "outputs": []
    },
    {
      "cell_type": "code",
      "metadata": {
        "id": "WlMTexlCog_P",
        "colab_type": "code",
        "outputId": "99230cf5-02a3-42a8-9dd0-a64d8a0328b6",
        "colab": {
          "base_uri": "https://localhost:8080/",
          "height": 488
        }
      },
      "source": [
        "#Features that are highly correlated to top rank days\n",
        "plt.figure(figsize = (16,8))\n",
        "focus = final_df.corr()[['top_rank_days']].sort_values(by = 'top_rank_days', ascending = False)\n",
        "sns.heatmap(focus, cmap ='coolwarm', annot = True);"
      ],
      "execution_count": 0,
      "outputs": [
        {
          "output_type": "display_data",
          "data": {
            "image/png": "[encoded data removed]",
            "text/plain": [
              "<Figure size 1152x576 with 2 Axes>"
            ]
          },
          "metadata": {
            "tags": []
          }
        }
      ]
    },
    {
      "cell_type": "code",
      "metadata": {
        "id": "_qpnK9mjsjc1",
        "colab_type": "code",
        "colab": {}
      },
      "source": [
        "#Splitting the data into test and train data\n",
        "X_train, X_test, y_train, y_test = train_test_split(X, y, random_state = 42)"
      ],
      "execution_count": 0,
      "outputs": []
    },
    {
      "cell_type": "code",
      "metadata": {
        "id": "DQacbeOYrZsp",
        "colab_type": "code",
        "colab": {}
      },
      "source": [
        "#Scaling the data\n",
        "ss = StandardScaler()\n",
        "X_train_sc = ss.fit_transform(X_train)\n",
        "X_test_sc = ss.transform(X_test)"
      ],
      "execution_count": 0,
      "outputs": []
    },
    {
      "cell_type": "code",
      "metadata": {
        "id": "jeyKrIwUsj1S",
        "colab_type": "code",
        "outputId": "b672892e-1944-43fc-e467-589bd40a73e1",
        "colab": {
          "base_uri": "https://localhost:8080/",
          "height": 35
        }
      },
      "source": [
        "#The linear regression model\n",
        "lr = LinearRegression()\n",
        "lr.fit(X_train_sc, y_train)\n",
        "cross_val_score(lr, X_test_sc, y_test, cv = 5).mean()"
      ],
      "execution_count": 0,
      "outputs": [
        {
          "output_type": "execute_result",
          "data": {
            "text/plain": [
              "0.36726218171060726"
            ]
          },
          "metadata": {
            "tags": []
          },
          "execution_count": 36
        }
      ]
    },
    {
      "cell_type": "code",
      "metadata": {
        "id": "X3Xx5VY5snnQ",
        "colab_type": "code",
        "outputId": "79172303-3ab1-450f-9bfd-497322504895",
        "colab": {
          "base_uri": "https://localhost:8080/",
          "height": 35
        }
      },
      "source": [
        "#knearest neighbors\n",
        "knn = KNeighborsRegressor()\n",
        "knn.fit(X_train_sc, y_train)\n",
        "cross_val_score(knn, X_test_sc, y_test, cv = 5).mean()"
      ],
      "execution_count": 0,
      "outputs": [
        {
          "output_type": "execute_result",
          "data": {
            "text/plain": [
              "0.7297524486245319"
            ]
          },
          "metadata": {
            "tags": []
          },
          "execution_count": 37
        }
      ]
    },
    {
      "cell_type": "code",
      "metadata": {
        "id": "3HCEtxTCtMDi",
        "colab_type": "code",
        "outputId": "4174771c-692a-466c-caf1-08933c70c2bf",
        "colab": {
          "base_uri": "https://localhost:8080/",
          "height": 35
        }
      },
      "source": [
        "#Decision tress\n",
        "dt = DecisionTreeRegressor()\n",
        "dt.fit(X_train, y_train)\n",
        "cross_val_score(dt, X_test, y_test, cv = 5).mean()"
      ],
      "execution_count": 0,
      "outputs": [
        {
          "output_type": "execute_result",
          "data": {
            "text/plain": [
              "0.8892545270127228"
            ]
          },
          "metadata": {
            "tags": []
          },
          "execution_count": 55
        }
      ]
    },
    {
      "cell_type": "code",
      "metadata": {
        "id": "MSeJ34Ljut_1",
        "colab_type": "code",
        "outputId": "229b946c-00b5-4646-8cb5-0189ba63878c",
        "colab": {
          "base_uri": "https://localhost:8080/",
          "height": 35
        }
      },
      "source": [
        "#Extra tree regressor\n",
        "et = ExtraTreeRegressor()\n",
        "et.fit(X_train, y_train)\n",
        "cross_val_score(et, X_test, y_test, cv = 5).mean()"
      ],
      "execution_count": 0,
      "outputs": [
        {
          "output_type": "execute_result",
          "data": {
            "text/plain": [
              "0.8137716625196691"
            ]
          },
          "metadata": {
            "tags": []
          },
          "execution_count": 56
        }
      ]
    },
    {
      "cell_type": "code",
      "metadata": {
        "id": "Kjhpis4WvhOu",
        "colab_type": "code",
        "outputId": "2deccca4-a8fc-438d-b842-3b7e0d432302",
        "colab": {
          "base_uri": "https://localhost:8080/",
          "height": 69
        }
      },
      "source": [
        "#Random Forest Regressor\n",
        "rf = RandomForestRegressor()\n",
        "rf.fit(X_train, y_train)\n",
        "cross_val_score(rf, X_test, y_test, cv = 5).mean()"
      ],
      "execution_count": 0,
      "outputs": [
        {
          "output_type": "stream",
          "text": [
            "/usr/local/lib/python3.6/dist-packages/sklearn/ensemble/forest.py:245: FutureWarning: The default value of n_estimators will change from 10 in version 0.20 to 100 in 0.22.\n",
            "  \"10 in version 0.20 to 100 in 0.22.\", FutureWarning)\n"
          ],
          "name": "stderr"
        },
        {
          "output_type": "execute_result",
          "data": {
            "text/plain": [
              "0.9148788480364862"
            ]
          },
          "metadata": {
            "tags": []
          },
          "execution_count": 54
        }
      ]
    },
    {
      "cell_type": "code",
      "metadata": {
        "id": "oi6r2FXWv8oE",
        "colab_type": "code",
        "outputId": "e923f4f0-4fba-4ecc-ef52-ae58cd7453c9",
        "colab": {
          "base_uri": "https://localhost:8080/",
          "height": 155
        }
      },
      "source": [
        "# hyperparameters for iteration\n",
        "grid_params = {\n",
        "    'n_estimators' : [100,200],\n",
        "    'min_samples_leaf': [5,7],\n",
        "}\n",
        "\n",
        "# Instantiate GridSearch\n",
        "gs = GridSearchCV(RandomForestRegressor(random_state=42), \n",
        "                  param_grid=grid_params, \n",
        "                  n_jobs=-1,\n",
        "                  verbose=1,\n",
        "                  cv=3)\n",
        "\n",
        "# Fit Model\n",
        "gs.fit(X_train, y_train)\n",
        "\n",
        "# Print the best cross validation score\n",
        "print(f'The CV score for the best performing model is {gs.best_score_}')\n",
        "\n",
        "# Print the hyperparameters for the best performing model\n",
        "print('The hyperparameters for the best performing data is summarized below:')\n",
        "print(gs.best_params_)\n",
        "\n",
        "# Print Accruacy for training and testing data from the train/test split\n",
        "print(f'The Accuracy for the training portion of the training dataset is {gs.score(X_train, y_train)}')\n",
        "print(f'The Accuracy for the testing portion of the training dataset is {gs.score(X_test, y_test)}')"
      ],
      "execution_count": 0,
      "outputs": [
        {
          "output_type": "stream",
          "text": [
            "Fitting 3 folds for each of 4 candidates, totalling 12 fits\n"
          ],
          "name": "stdout"
        },
        {
          "output_type": "stream",
          "text": [
            "[Parallel(n_jobs=-1)]: Using backend LokyBackend with 2 concurrent workers.\n",
            "[Parallel(n_jobs=-1)]: Done  12 out of  12 | elapsed:  7.7min finished\n"
          ],
          "name": "stderr"
        },
        {
          "output_type": "stream",
          "text": [
            "The CV score for the best performing model is 0.9278914983334728\n",
            "The hyperparameters for the best performing data is summarized below:\n",
            "{'min_samples_leaf': 5, 'n_estimators': 100}\n",
            "The Accuracy for the training portion of the training dataset is 0.9627589392942949\n",
            "The Accuracy for the testing portion of the training dataset is 0.9436769958205442\n"
          ],
          "name": "stdout"
        }
      ]
    },
    {
      "cell_type": "code",
      "metadata": {
        "id": "9N2YFhbhsnVl",
        "colab_type": "code",
        "outputId": "46776bac-fb2a-45a1-f737-b255958e812e",
        "colab": {
          "base_uri": "https://localhost:8080/",
          "height": 52
        }
      },
      "source": [
        "# Instantiate PCA with 34 components.\n",
        "pca = PCA(n_components = 34)\n",
        "pca.fit(X_train)"
      ],
      "execution_count": 0,
      "outputs": [
        {
          "output_type": "execute_result",
          "data": {
            "text/plain": [
              "PCA(copy=True, iterated_power='auto', n_components=34, random_state=None,\n",
              "    svd_solver='auto', tol=0.0, whiten=False)"
            ]
          },
          "metadata": {
            "tags": []
          },
          "execution_count": 49
        }
      ]
    },
    {
      "cell_type": "code",
      "metadata": {
        "id": "vMjeplpLDgW3",
        "colab_type": "code",
        "outputId": "1bd10aef-e238-44d1-cb0f-5507847b8d50",
        "colab": {
          "base_uri": "https://localhost:8080/",
          "height": 86
        }
      },
      "source": [
        "# Instantiate regression model.\n",
        "rf = RandomForestRegressor()\n",
        "\n",
        "# Transform Z_train and Z_test.\n",
        "Z_train = pca.transform(X_train)\n",
        "Z_test = pca.transform(X_test)\n",
        "\n",
        "# Fit on Z_train.\n",
        "rf.fit(Z_train, y_train)\n",
        "\n",
        "# Score on training and testing sets.\n",
        "print(f'Training Score: {round(r2_score(y_train, rf.predict(Z_train)),4)}.')\n",
        "print(f'Testing Score: {round(r2_score(y_test, rf.predict(Z_test)),4)}.')"
      ],
      "execution_count": 0,
      "outputs": [
        {
          "output_type": "stream",
          "text": [
            "/usr/local/lib/python3.6/dist-packages/sklearn/ensemble/forest.py:245: FutureWarning: The default value of n_estimators will change from 10 in version 0.20 to 100 in 0.22.\n",
            "  \"10 in version 0.20 to 100 in 0.22.\", FutureWarning)\n"
          ],
          "name": "stderr"
        },
        {
          "output_type": "stream",
          "text": [
            "Training Score: 0.9843.\n",
            "Testing Score: 0.9213.\n"
          ],
          "name": "stdout"
        }
      ]
    }
  ]
}