{
  "nbformat": 4,
  "nbformat_minor": 0,
  "metadata": {
    "colab": {
      "name": "TCG_scoring_model.ipynb",
      "version": "0.3.2",
      "provenance": [],
      "include_colab_link": true
    },
    "kernelspec": {
      "name": "python3",
      "display_name": "Python 3"
    },
    "accelerator": "GPU"
  },
  "cells": [
    {
      "cell_type": "markdown",
      "metadata": {
        "id": "view-in-github",
        "colab_type": "text"
      },
      "source": [
        "<a href=\"https://colab.research.google.com/github/antonypaulson/Detecting_interesting_VC_investments/blob/master/TCG_scoring_model.ipynb\" target=\"_parent\"><img src=\"https://colab.research.google.com/assets/colab-badge.svg\" alt=\"Open In Colab\"/></a>"
      ]
    },
    {
      "cell_type": "code",
      "metadata": {
        "id": "GxPJ7SUcU3b2",
        "colab_type": "code",
        "colab": {}
      },
      "source": [
        "#Importing libraries\n",
        "import pandas as pd\n",
        "import numpy as np\n",
        "import matplotlib.pyplot as plt\n",
        "import seaborn as sns"
      ],
      "execution_count": 0,
      "outputs": []
    },
    {
      "cell_type": "code",
      "metadata": {
        "id": "uJTpWwAHVjzH",
        "colab_type": "code",
        "outputId": "a22d9ff2-8802-446a-d84d-3322a495e71d",
        "colab": {
          "base_uri": "https://localhost:8080/",
          "height": 204
        }
      },
      "source": [
        "#Importing the dataset\n",
        "df = pd.read_csv('frame_scoring_model.csv')\n",
        "df.head()"
      ],
      "execution_count": 0,
      "outputs": [
        {
          "output_type": "execute_result",
          "data": {
            "text/html": [
              "<div>\n",
              "<style scoped>\n",
              "    .dataframe tbody tr th:only-of-type {\n",
              "        vertical-align: middle;\n",
              "    }\n",
              "\n",
              "    .dataframe tbody tr th {\n",
              "        vertical-align: top;\n",
              "    }\n",
              "\n",
              "    .dataframe thead th {\n",
              "        text-align: right;\n",
              "    }\n",
              "</style>\n",
              "<table border=\"1\" class=\"dataframe\">\n",
              "  <thead>\n",
              "    <tr style=\"text-align: right;\">\n",
              "      <th></th>\n",
              "      <th>itunes_app_id</th>\n",
              "      <th>app_name</th>\n",
              "      <th>developer</th>\n",
              "      <th>category</th>\n",
              "      <th>rating_oo5_x</th>\n",
              "      <th>num_ratings_x</th>\n",
              "      <th>has_iap</th>\n",
              "      <th>release_date</th>\n",
              "      <th>age_rating</th>\n",
              "      <th>file_size</th>\n",
              "      <th>languages</th>\n",
              "      <th>price</th>\n",
              "      <th>subscription_service</th>\n",
              "      <th>top_rank_y</th>\n",
              "      <th>top_rank_days_y</th>\n",
              "      <th>growth_y</th>\n",
              "      <th>n_languages</th>\n",
              "      <th>curr_date</th>\n",
              "      <th>active_days</th>\n",
              "      <th>avg_daily_growth</th>\n",
              "      <th>max_growth_rate</th>\n",
              "    </tr>\n",
              "  </thead>\n",
              "  <tbody>\n",
              "    <tr>\n",
              "      <th>0</th>\n",
              "      <td>1000008721</td>\n",
              "      <td>DYC TongShu</td>\n",
              "      <td>Darren Gibbs</td>\n",
              "      <td>Lifestyle</td>\n",
              "      <td>5.0</td>\n",
              "      <td>6.0</td>\n",
              "      <td>False</td>\n",
              "      <td>2016-09-07</td>\n",
              "      <td>4+</td>\n",
              "      <td>10.1</td>\n",
              "      <td>['English']</td>\n",
              "      <td>9.99</td>\n",
              "      <td>0</td>\n",
              "      <td>166.0</td>\n",
              "      <td>1</td>\n",
              "      <td>0.0</td>\n",
              "      <td>1</td>\n",
              "      <td>2019-06-11</td>\n",
              "      <td>1007</td>\n",
              "      <td>0.000000</td>\n",
              "      <td>0.000000</td>\n",
              "    </tr>\n",
              "    <tr>\n",
              "      <th>1</th>\n",
              "      <td>1000017994</td>\n",
              "      <td>Cardiogram for Apple Watch</td>\n",
              "      <td>Cardiogram, Inc.</td>\n",
              "      <td>Health &amp; Fitness</td>\n",
              "      <td>4.2</td>\n",
              "      <td>2700.0</td>\n",
              "      <td>True</td>\n",
              "      <td>2019-06-03</td>\n",
              "      <td>12+</td>\n",
              "      <td>80.6</td>\n",
              "      <td>['English']</td>\n",
              "      <td>0.00</td>\n",
              "      <td>1</td>\n",
              "      <td>16.0</td>\n",
              "      <td>1</td>\n",
              "      <td>72.0</td>\n",
              "      <td>1</td>\n",
              "      <td>2019-06-11</td>\n",
              "      <td>8</td>\n",
              "      <td>9.000000</td>\n",
              "      <td>81.818182</td>\n",
              "    </tr>\n",
              "    <tr>\n",
              "      <th>2</th>\n",
              "      <td>1000077500</td>\n",
              "      <td>ACLS Advisor 2017 Guidelines</td>\n",
              "      <td>Paul Chan</td>\n",
              "      <td>Medical</td>\n",
              "      <td>1.2</td>\n",
              "      <td>9.0</td>\n",
              "      <td>True</td>\n",
              "      <td>2017-03-13</td>\n",
              "      <td>12+</td>\n",
              "      <td>10.3</td>\n",
              "      <td>['English']</td>\n",
              "      <td>0.00</td>\n",
              "      <td>0</td>\n",
              "      <td>71.0</td>\n",
              "      <td>1</td>\n",
              "      <td>30.0</td>\n",
              "      <td>1</td>\n",
              "      <td>2019-06-11</td>\n",
              "      <td>820</td>\n",
              "      <td>0.036585</td>\n",
              "      <td>29.702970</td>\n",
              "    </tr>\n",
              "    <tr>\n",
              "      <th>3</th>\n",
              "      <td>1000103741</td>\n",
              "      <td>Mini Taiko</td>\n",
              "      <td>Jason Lew</td>\n",
              "      <td>Music</td>\n",
              "      <td>5.0</td>\n",
              "      <td>4.0</td>\n",
              "      <td>True</td>\n",
              "      <td>2015-08-06</td>\n",
              "      <td>4+</td>\n",
              "      <td>31.0</td>\n",
              "      <td>['English', ' Japanese']</td>\n",
              "      <td>1.99</td>\n",
              "      <td>0</td>\n",
              "      <td>79.0</td>\n",
              "      <td>1</td>\n",
              "      <td>37.0</td>\n",
              "      <td>2</td>\n",
              "      <td>2019-06-11</td>\n",
              "      <td>1405</td>\n",
              "      <td>0.033790</td>\n",
              "      <td>31.896552</td>\n",
              "    </tr>\n",
              "    <tr>\n",
              "      <th>4</th>\n",
              "      <td>1000129248</td>\n",
              "      <td>Life Budget - Personal Finance &amp; Money Management</td>\n",
              "      <td>Farzad Farhoosh</td>\n",
              "      <td>Finance</td>\n",
              "      <td>4.3</td>\n",
              "      <td>58.0</td>\n",
              "      <td>True</td>\n",
              "      <td>2016-01-13</td>\n",
              "      <td>4+</td>\n",
              "      <td>54.2</td>\n",
              "      <td>['English', ' Dutch', ' French', ' German', ' ...</td>\n",
              "      <td>0.00</td>\n",
              "      <td>0</td>\n",
              "      <td>71.0</td>\n",
              "      <td>1</td>\n",
              "      <td>72.0</td>\n",
              "      <td>7</td>\n",
              "      <td>2019-06-11</td>\n",
              "      <td>1245</td>\n",
              "      <td>0.065753</td>\n",
              "      <td>50.349650</td>\n",
              "    </tr>\n",
              "  </tbody>\n",
              "</table>\n",
              "</div>"
            ],
            "text/plain": [
              "   itunes_app_id  ... max_growth_rate\n",
              "0     1000008721  ...        0.000000\n",
              "1     1000017994  ...       81.818182\n",
              "2     1000077500  ...       29.702970\n",
              "3     1000103741  ...       31.896552\n",
              "4     1000129248  ...       50.349650\n",
              "\n",
              "[5 rows x 21 columns]"
            ]
          },
          "metadata": {
            "tags": []
          },
          "execution_count": 2
        }
      ]
    },
    {
      "cell_type": "code",
      "metadata": {
        "id": "2evl0IQmQfp7",
        "colab_type": "code",
        "outputId": "9502b69b-31d7-474a-bdee-664d8e821df3",
        "colab": {
          "base_uri": "https://localhost:8080/",
          "height": 487
        }
      },
      "source": [
        "plt.figure(figsize = (16,8))\n",
        "focus = df.corr()[['max_growth_rate']].sort_values(by = 'max_growth_rate', ascending = False)\n",
        "sns.heatmap(focus, cmap ='coolwarm', annot = True);"
      ],
      "execution_count": 0,
      "outputs": [
        {
          "output_type": "display_data",
          "data": {
            "image/png": "[encoded data removed]",
            "text/plain": [
              "<Figure size 1152x576 with 2 Axes>"
            ]
          },
          "metadata": {
            "tags": []
          }
        }
      ]
    },
    {
      "cell_type": "code",
      "metadata": {
        "id": "nUzCq9WmWkvG",
        "colab_type": "code",
        "colab": {}
      },
      "source": [
        "#Removing outliers\n",
        "df[df['growth_y'] > 200]\n",
        "df.drop([37982, 45776], inplace = True)"
      ],
      "execution_count": 0,
      "outputs": []
    },
    {
      "cell_type": "code",
      "metadata": {
        "id": "oHYVG7ZuXCLq",
        "colab_type": "code",
        "colab": {}
      },
      "source": [
        "#Distribution of growth\n",
        "grth_intervals = np.histogram_bin_edges(df['growth_y'], bins = 5)\n",
        "#scoring model growth score\n",
        "df['growth_score'] = pd.cut(df['growth_y'], bins = 5, labels=[2,4,6,8,10])"
      ],
      "execution_count": 0,
      "outputs": []
    },
    {
      "cell_type": "code",
      "metadata": {
        "id": "LXo3oPNE8kUW",
        "colab_type": "code",
        "colab": {}
      },
      "source": [
        "#Distribution of daily growth\n",
        "daily_grth_intervals = np.histogram_bin_edges(df['avg_daily_growth'], bins = 5)\n",
        "#Daily growth score\n",
        "df['daily_growth_score'] = pd.cut(df['avg_daily_growth'], bins = 5, labels = [2,4,6,8,10])"
      ],
      "execution_count": 0,
      "outputs": []
    },
    {
      "cell_type": "code",
      "metadata": {
        "id": "VtGzmbI5Dnkk",
        "colab_type": "code",
        "colab": {}
      },
      "source": [
        "#Max growth rate\n",
        "max_grth_rate_intervals = np.histogram_bin_edges(df['max_growth_rate'], bins = 5)\n",
        "#Max growth score\n",
        "df['max_growth_score'] = pd.cut(df['max_growth_rate'], bins = 5, labels = [2,4,6,8,10])"
      ],
      "execution_count": 0,
      "outputs": []
    },
    {
      "cell_type": "code",
      "metadata": {
        "id": "s2A20eoED4uJ",
        "colab_type": "code",
        "colab": {}
      },
      "source": [
        "#Top rank days\n",
        "top_rank_days_intervals = np.histogram_bin_edges(df['top_rank_days_y'], bins = 5)\n",
        "#top rank days score\n",
        "df['top_rank_days_score'] = pd.cut(df['top_rank_days_y'], bins = 5, labels = [2,4,6,8,10])"
      ],
      "execution_count": 0,
      "outputs": []
    },
    {
      "cell_type": "code",
      "metadata": {
        "id": "oouyZwbCFH76",
        "colab_type": "code",
        "colab": {}
      },
      "source": [
        "#Top rank\n",
        "top_rank_intervals = np.histogram_bin_edges(df['top_rank_y'], bins = 5)\n",
        "#top rank score\n",
        "df['top_rank_score'] = pd.cut(df['top_rank_y'], bins = 5, labels = [10,8,6,4,2])"
      ],
      "execution_count": 0,
      "outputs": []
    },
    {
      "cell_type": "code",
      "metadata": {
        "id": "ZguZNxYIFxoU",
        "colab_type": "code",
        "colab": {}
      },
      "source": [
        "#Subcription app score\n",
        "df['subscription_score'] = df['subscription_service'].apply(lambda a: 20 if a == 1 else 0)"
      ],
      "execution_count": 0,
      "outputs": []
    },
    {
      "cell_type": "code",
      "metadata": {
        "id": "68SlfHNZGmLk",
        "colab_type": "code",
        "outputId": "6c16297c-48cb-41ae-efd6-c61abd7473d4",
        "colab": {
          "base_uri": "https://localhost:8080/",
          "height": 34
        }
      },
      "source": [
        "np.histogram_bin_edges(df['rating_oo5_x'], bins = 5)"
      ],
      "execution_count": 0,
      "outputs": [
        {
          "output_type": "execute_result",
          "data": {
            "text/plain": [
              "array([1. , 1.8, 2.6, 3.4, 4.2, 5. ])"
            ]
          },
          "metadata": {
            "tags": []
          },
          "execution_count": 11
        }
      ]
    },
    {
      "cell_type": "code",
      "metadata": {
        "id": "TQ8sWUX6HeMq",
        "colab_type": "code",
        "colab": {}
      },
      "source": [
        "#Rating oo5\n",
        "rating_oo5_intervals = np.histogram_bin_edges(df['rating_oo5_x'], bins = 5)\n",
        "#Rating oo5 score\n",
        "df['rating_oo5_score'] = pd.cut(df['rating_oo5_x'], bins = 5, labels = [1,2,3,4,5])"
      ],
      "execution_count": 0,
      "outputs": []
    },
    {
      "cell_type": "code",
      "metadata": {
        "id": "STc7UxMCIw_p",
        "colab_type": "code",
        "outputId": "0e4eca27-e566-45b9-965e-d93c86d6202a",
        "colab": {
          "base_uri": "https://localhost:8080/",
          "height": 51
        }
      },
      "source": [
        "#Active days\n",
        "active_days_intervals = np.histogram_bin_edges(df['active_days'], bins = 10)\n",
        "#Rating oo5 score\n",
        "df['active_days_score'] = pd.cut(df['active_days'], bins = 10, labels = [5,4.5,4,3.5,3,2.5,2,1.5,1,0.5])\n",
        "active_days_intervals"
      ],
      "execution_count": 0,
      "outputs": [
        {
          "output_type": "execute_result",
          "data": {
            "text/plain": [
              "array([   0. ,  376.9,  753.8, 1130.7, 1507.6, 1884.5, 2261.4, 2638.3,\n",
              "       3015.2, 3392.1, 3769. ])"
            ]
          },
          "metadata": {
            "tags": []
          },
          "execution_count": 13
        }
      ]
    },
    {
      "cell_type": "code",
      "metadata": {
        "id": "VmyyMwYnJb2K",
        "colab_type": "code",
        "colab": {}
      },
      "source": [
        "#Category of investment\n",
        "category_score = []\n",
        "for i in df['category']:\n",
        "  if i == 'Health & Fitness':\n",
        "    category_score.append(10)\n",
        "  elif i == 'Finance':\n",
        "    category_score.append(8)\n",
        "  elif i == 'Social Networking':\n",
        "    category_score.append(6)\n",
        "  elif i == 'Travel':\n",
        "    category_score.append(4)\n",
        "  elif i == 'Education':\n",
        "    category_score.append(2)\n",
        "  else:\n",
        "    category_score.append(0)\n",
        "df['category_score'] = category_score"
      ],
      "execution_count": 0,
      "outputs": []
    },
    {
      "cell_type": "code",
      "metadata": {
        "id": "w-DD2pJkF9IF",
        "colab_type": "code",
        "outputId": "d0566d07-7b49-4342-f653-a7d96bc58cab",
        "colab": {
          "base_uri": "https://localhost:8080/",
          "height": 204
        }
      },
      "source": [
        "#Creating a dataframe of developers that have more than 1 highly growing app\n",
        "developers = df[df['growth_score'] >= 8]['developer'].value_counts()[:91]\n",
        "df_developers = pd.DataFrame(developers)\n",
        "df_developers.columns = ['developer_counts']\n",
        "growth_score_intervals = np.histogram_bin_edges(df_developers['developer_counts'], bins = 5)\n",
        "df_developers['developer_score'] = pd.cut(df_developers['developer_counts'], bins = 5, labels = [2.0,4.0,6.0,8.0,10.0])\n",
        "df_developers.head(5)"
      ],
      "execution_count": 0,
      "outputs": [
        {
          "output_type": "execute_result",
          "data": {
            "text/html": [
              "<div>\n",
              "<style scoped>\n",
              "    .dataframe tbody tr th:only-of-type {\n",
              "        vertical-align: middle;\n",
              "    }\n",
              "\n",
              "    .dataframe tbody tr th {\n",
              "        vertical-align: top;\n",
              "    }\n",
              "\n",
              "    .dataframe thead th {\n",
              "        text-align: right;\n",
              "    }\n",
              "</style>\n",
              "<table border=\"1\" class=\"dataframe\">\n",
              "  <thead>\n",
              "    <tr style=\"text-align: right;\">\n",
              "      <th></th>\n",
              "      <th>developer_counts</th>\n",
              "      <th>developer_score</th>\n",
              "    </tr>\n",
              "  </thead>\n",
              "  <tbody>\n",
              "    <tr>\n",
              "      <th>Pocket Prep, Inc.</th>\n",
              "      <td>11</td>\n",
              "      <td>10.0</td>\n",
              "    </tr>\n",
              "    <tr>\n",
              "      <th>GPS Tour Guide</th>\n",
              "      <td>8</td>\n",
              "      <td>8.0</td>\n",
              "    </tr>\n",
              "    <tr>\n",
              "      <th>Higher Learning Technologies</th>\n",
              "      <td>7</td>\n",
              "      <td>6.0</td>\n",
              "    </tr>\n",
              "    <tr>\n",
              "      <th>Gray Television Group, Inc.</th>\n",
              "      <td>6</td>\n",
              "      <td>6.0</td>\n",
              "    </tr>\n",
              "    <tr>\n",
              "      <th>Google LLC</th>\n",
              "      <td>5</td>\n",
              "      <td>4.0</td>\n",
              "    </tr>\n",
              "  </tbody>\n",
              "</table>\n",
              "</div>"
            ],
            "text/plain": [
              "                              developer_counts developer_score\n",
              "Pocket Prep, Inc.                           11            10.0\n",
              "GPS Tour Guide                               8             8.0\n",
              "Higher Learning Technologies                 7             6.0\n",
              "Gray Television Group, Inc.                  6             6.0\n",
              "Google LLC                                   5             4.0"
            ]
          },
          "metadata": {
            "tags": []
          },
          "execution_count": 15
        }
      ]
    },
    {
      "cell_type": "code",
      "metadata": {
        "id": "5UAuHjJz3rER",
        "colab_type": "code",
        "colab": {}
      },
      "source": [
        "#Creating a column for developer scores\n",
        "developer_score = []\n",
        "for i in df['developer']:\n",
        "  if i in df_developers.index:\n",
        "    developer_score.append(df_developers.loc[i]['developer_score'])\n",
        "  else:\n",
        "    developer_score.append(0)\n",
        "df['developer_score'] = developer_score"
      ],
      "execution_count": 0,
      "outputs": []
    },
    {
      "cell_type": "code",
      "metadata": {
        "id": "zw2nn_ui5Sz3",
        "colab_type": "code",
        "outputId": "3b502bd4-5a74-46b6-94da-af64fbf2f27d",
        "colab": {
          "base_uri": "https://localhost:8080/",
          "height": 136
        }
      },
      "source": [
        "df['developer_score'].value_counts()"
      ],
      "execution_count": 0,
      "outputs": [
        {
          "output_type": "execute_result",
          "data": {
            "text/plain": [
              "0.0     66503\n",
              "2.0      1717\n",
              "4.0       312\n",
              "6.0       183\n",
              "10.0       80\n",
              "8.0        33\n",
              "Name: developer_score, dtype: int64"
            ]
          },
          "metadata": {
            "tags": []
          },
          "execution_count": 17
        }
      ]
    },
    {
      "cell_type": "code",
      "metadata": {
        "id": "-DM2R-IgJCEf",
        "colab_type": "code",
        "colab": {}
      },
      "source": [
        "#Summing the score up\n",
        "score_list = ['growth_score',\n",
        "       'daily_growth_score', 'max_growth_score', 'top_rank_days_score',\n",
        "       'top_rank_score', 'subscription_score', 'rating_oo5_score',\n",
        "       'active_days_score', 'category_score', 'developer_score']\n",
        "df['total_score'] = df[score_list].sum(axis=1)\n"
      ],
      "execution_count": 0,
      "outputs": []
    },
    {
      "cell_type": "code",
      "metadata": {
        "id": "h0CgPV86KdpN",
        "colab_type": "code",
        "outputId": "8180bf85-340b-4021-a124-e837b3a936ed",
        "colab": {
          "base_uri": "https://localhost:8080/",
          "height": 394
        }
      },
      "source": [
        "#Checking the dataframe\n",
        "df.head()"
      ],
      "execution_count": 0,
      "outputs": [
        {
          "output_type": "execute_result",
          "data": {
            "text/html": [
              "<div>\n",
              "<style scoped>\n",
              "    .dataframe tbody tr th:only-of-type {\n",
              "        vertical-align: middle;\n",
              "    }\n",
              "\n",
              "    .dataframe tbody tr th {\n",
              "        vertical-align: top;\n",
              "    }\n",
              "\n",
              "    .dataframe thead th {\n",
              "        text-align: right;\n",
              "    }\n",
              "</style>\n",
              "<table border=\"1\" class=\"dataframe\">\n",
              "  <thead>\n",
              "    <tr style=\"text-align: right;\">\n",
              "      <th></th>\n",
              "      <th>itunes_app_id</th>\n",
              "      <th>app_name</th>\n",
              "      <th>developer</th>\n",
              "      <th>category</th>\n",
              "      <th>rating_oo5_x</th>\n",
              "      <th>num_ratings_x</th>\n",
              "      <th>has_iap</th>\n",
              "      <th>release_date</th>\n",
              "      <th>age_rating</th>\n",
              "      <th>file_size</th>\n",
              "      <th>languages</th>\n",
              "      <th>price</th>\n",
              "      <th>subscription_service</th>\n",
              "      <th>top_rank_y</th>\n",
              "      <th>top_rank_days_y</th>\n",
              "      <th>growth_y</th>\n",
              "      <th>n_languages</th>\n",
              "      <th>curr_date</th>\n",
              "      <th>active_days</th>\n",
              "      <th>avg_daily_growth</th>\n",
              "      <th>max_growth_rate</th>\n",
              "      <th>growth_score</th>\n",
              "      <th>daily_growth_score</th>\n",
              "      <th>max_growth_score</th>\n",
              "      <th>top_rank_days_score</th>\n",
              "      <th>top_rank_score</th>\n",
              "      <th>subscription_score</th>\n",
              "      <th>rating_oo5_score</th>\n",
              "      <th>active_days_score</th>\n",
              "      <th>category_score</th>\n",
              "      <th>developer_score</th>\n",
              "      <th>total_score</th>\n",
              "    </tr>\n",
              "  </thead>\n",
              "  <tbody>\n",
              "    <tr>\n",
              "      <th>0</th>\n",
              "      <td>1000008721</td>\n",
              "      <td>DYC TongShu</td>\n",
              "      <td>Darren Gibbs</td>\n",
              "      <td>Lifestyle</td>\n",
              "      <td>5.0</td>\n",
              "      <td>6.0</td>\n",
              "      <td>False</td>\n",
              "      <td>2016-09-07</td>\n",
              "      <td>4+</td>\n",
              "      <td>10.1</td>\n",
              "      <td>['English']</td>\n",
              "      <td>9.99</td>\n",
              "      <td>0</td>\n",
              "      <td>166.0</td>\n",
              "      <td>1</td>\n",
              "      <td>0.0</td>\n",
              "      <td>1</td>\n",
              "      <td>2019-06-11</td>\n",
              "      <td>1007</td>\n",
              "      <td>0.000000</td>\n",
              "      <td>0.000000</td>\n",
              "      <td>2</td>\n",
              "      <td>2</td>\n",
              "      <td>2</td>\n",
              "      <td>2</td>\n",
              "      <td>2</td>\n",
              "      <td>0</td>\n",
              "      <td>5</td>\n",
              "      <td>4.0</td>\n",
              "      <td>0</td>\n",
              "      <td>0.0</td>\n",
              "      <td>19.0</td>\n",
              "    </tr>\n",
              "    <tr>\n",
              "      <th>1</th>\n",
              "      <td>1000017994</td>\n",
              "      <td>Cardiogram for Apple Watch</td>\n",
              "      <td>Cardiogram, Inc.</td>\n",
              "      <td>Health &amp; Fitness</td>\n",
              "      <td>4.2</td>\n",
              "      <td>2700.0</td>\n",
              "      <td>True</td>\n",
              "      <td>2019-06-03</td>\n",
              "      <td>12+</td>\n",
              "      <td>80.6</td>\n",
              "      <td>['English']</td>\n",
              "      <td>0.00</td>\n",
              "      <td>1</td>\n",
              "      <td>16.0</td>\n",
              "      <td>1</td>\n",
              "      <td>72.0</td>\n",
              "      <td>1</td>\n",
              "      <td>2019-06-11</td>\n",
              "      <td>8</td>\n",
              "      <td>9.000000</td>\n",
              "      <td>81.818182</td>\n",
              "      <td>4</td>\n",
              "      <td>2</td>\n",
              "      <td>10</td>\n",
              "      <td>2</td>\n",
              "      <td>10</td>\n",
              "      <td>20</td>\n",
              "      <td>4</td>\n",
              "      <td>5.0</td>\n",
              "      <td>10</td>\n",
              "      <td>0.0</td>\n",
              "      <td>67.0</td>\n",
              "    </tr>\n",
              "    <tr>\n",
              "      <th>2</th>\n",
              "      <td>1000077500</td>\n",
              "      <td>ACLS Advisor 2017 Guidelines</td>\n",
              "      <td>Paul Chan</td>\n",
              "      <td>Medical</td>\n",
              "      <td>1.2</td>\n",
              "      <td>9.0</td>\n",
              "      <td>True</td>\n",
              "      <td>2017-03-13</td>\n",
              "      <td>12+</td>\n",
              "      <td>10.3</td>\n",
              "      <td>['English']</td>\n",
              "      <td>0.00</td>\n",
              "      <td>0</td>\n",
              "      <td>71.0</td>\n",
              "      <td>1</td>\n",
              "      <td>30.0</td>\n",
              "      <td>1</td>\n",
              "      <td>2019-06-11</td>\n",
              "      <td>820</td>\n",
              "      <td>0.036585</td>\n",
              "      <td>29.702970</td>\n",
              "      <td>2</td>\n",
              "      <td>2</td>\n",
              "      <td>4</td>\n",
              "      <td>2</td>\n",
              "      <td>8</td>\n",
              "      <td>0</td>\n",
              "      <td>1</td>\n",
              "      <td>4.0</td>\n",
              "      <td>0</td>\n",
              "      <td>0.0</td>\n",
              "      <td>23.0</td>\n",
              "    </tr>\n",
              "    <tr>\n",
              "      <th>3</th>\n",
              "      <td>1000103741</td>\n",
              "      <td>Mini Taiko</td>\n",
              "      <td>Jason Lew</td>\n",
              "      <td>Music</td>\n",
              "      <td>5.0</td>\n",
              "      <td>4.0</td>\n",
              "      <td>True</td>\n",
              "      <td>2015-08-06</td>\n",
              "      <td>4+</td>\n",
              "      <td>31.0</td>\n",
              "      <td>['English', ' Japanese']</td>\n",
              "      <td>1.99</td>\n",
              "      <td>0</td>\n",
              "      <td>79.0</td>\n",
              "      <td>1</td>\n",
              "      <td>37.0</td>\n",
              "      <td>2</td>\n",
              "      <td>2019-06-11</td>\n",
              "      <td>1405</td>\n",
              "      <td>0.033790</td>\n",
              "      <td>31.896552</td>\n",
              "      <td>2</td>\n",
              "      <td>2</td>\n",
              "      <td>4</td>\n",
              "      <td>2</td>\n",
              "      <td>8</td>\n",
              "      <td>0</td>\n",
              "      <td>5</td>\n",
              "      <td>3.5</td>\n",
              "      <td>0</td>\n",
              "      <td>0.0</td>\n",
              "      <td>26.5</td>\n",
              "    </tr>\n",
              "    <tr>\n",
              "      <th>4</th>\n",
              "      <td>1000129248</td>\n",
              "      <td>Life Budget - Personal Finance &amp; Money Management</td>\n",
              "      <td>Farzad Farhoosh</td>\n",
              "      <td>Finance</td>\n",
              "      <td>4.3</td>\n",
              "      <td>58.0</td>\n",
              "      <td>True</td>\n",
              "      <td>2016-01-13</td>\n",
              "      <td>4+</td>\n",
              "      <td>54.2</td>\n",
              "      <td>['English', ' Dutch', ' French', ' German', ' ...</td>\n",
              "      <td>0.00</td>\n",
              "      <td>0</td>\n",
              "      <td>71.0</td>\n",
              "      <td>1</td>\n",
              "      <td>72.0</td>\n",
              "      <td>7</td>\n",
              "      <td>2019-06-11</td>\n",
              "      <td>1245</td>\n",
              "      <td>0.065753</td>\n",
              "      <td>50.349650</td>\n",
              "      <td>4</td>\n",
              "      <td>2</td>\n",
              "      <td>6</td>\n",
              "      <td>2</td>\n",
              "      <td>8</td>\n",
              "      <td>0</td>\n",
              "      <td>5</td>\n",
              "      <td>3.5</td>\n",
              "      <td>8</td>\n",
              "      <td>0.0</td>\n",
              "      <td>38.5</td>\n",
              "    </tr>\n",
              "  </tbody>\n",
              "</table>\n",
              "</div>"
            ],
            "text/plain": [
              "   itunes_app_id  ... total_score\n",
              "0     1000008721  ...        19.0\n",
              "1     1000017994  ...        67.0\n",
              "2     1000077500  ...        23.0\n",
              "3     1000103741  ...        26.5\n",
              "4     1000129248  ...        38.5\n",
              "\n",
              "[5 rows x 32 columns]"
            ]
          },
          "metadata": {
            "tags": []
          },
          "execution_count": 19
        }
      ]
    },
    {
      "cell_type": "code",
      "metadata": {
        "id": "CBVi8iVUNNdS",
        "colab_type": "code",
        "colab": {}
      },
      "source": [
        "df[[\"growth_score\", \n",
        "    \"daily_growth_score\", \n",
        "    \"max_growth_score\", \n",
        "    \"top_rank_days_score\", \n",
        "    \"top_rank_score\",\n",
        "   \"rating_oo5_score\",\n",
        "   \"active_days_score\"]] = df[[\"growth_score\", \n",
        "                               \"daily_growth_score\", \n",
        "                               \"max_growth_score\", \n",
        "                               \"top_rank_days_score\", \n",
        "                               \"top_rank_score\",\n",
        "                               \"rating_oo5_score\",\n",
        "                               \"active_days_score\"]].apply(pd.to_numeric)"
      ],
      "execution_count": 0,
      "outputs": []
    },
    {
      "cell_type": "code",
      "metadata": {
        "id": "OKePmW4YPe9F",
        "colab_type": "code",
        "outputId": "54314891-fd8a-44e3-af94-e806e4569312",
        "colab": {
          "base_uri": "https://localhost:8080/",
          "height": 488
        }
      },
      "source": [
        "plt.figure(figsize = (16,8))\n",
        "focus = df.corr()[['avg_daily_growth']].sort_values(by = 'avg_daily_growth', ascending = False)\n",
        "sns.heatmap(focus, cmap ='coolwarm', annot = True);"
      ],
      "execution_count": 0,
      "outputs": [
        {
          "output_type": "display_data",
          "data": {
            "image/png": "[encoded data removed]",
            "text/plain": [
              "<Figure size 1152x576 with 2 Axes>"
            ]
          },
          "metadata": {
            "tags": []
          }
        }
      ]
    },
    {
      "cell_type": "code",
      "metadata": {
        "colab_type": "code",
        "id": "Kztwg3JVYGbi",
        "colab": {}
      },
      "source": [
        "tcg_magic_15 = ['The Action Network: Sports App',\n",
        "                'ESPN: Live Sports & Scores',\n",
        "                #'Netflix',\n",
        "                'AllTrails: Hike, Run & Cycle',\n",
        "                'Headspace: Meditation & Sleep',\n",
        "                'Quizlet',\n",
        "                'Duolingo',\n",
        "                'The Athletic: Sports Coverage',\n",
        "                'Prodigy Math Game',\n",
        "                'onX Hunt: #1 GPS Hunting Map',\n",
        "                'HOOKED',\n",
        "                'Crunchyroll',\n",
        "                'The Wall Street Journal.',\n",
        "                'MLB At Bat',\n",
        "                'Surfline']"
      ],
      "execution_count": 0,
      "outputs": []
    },
    {
      "cell_type": "code",
      "metadata": {
        "id": "vg2rDvwrYQjr",
        "colab_type": "code",
        "colab": {}
      },
      "source": [
        "tcg_magic  = df[df['app_name'].isin(tcg_magic_15)][[\"app_name\",\"growth_score\", \n",
        "                               \"daily_growth_score\", \n",
        "                               \"max_growth_score\", \n",
        "                               \"top_rank_days_score\", \n",
        "                               \"top_rank_score\",\n",
        "                               \"rating_oo5_score\",\n",
        "                               \"active_days_score\",\n",
        "                                \"developer_score\",\n",
        "                                 \"category_score\",\n",
        "                                  \"subscription_score\",\n",
        "                                      \"total_score\"]]"
      ],
      "execution_count": 0,
      "outputs": []
    },
    {
      "cell_type": "code",
      "metadata": {
        "id": "ZsB93EMdYhJO",
        "colab_type": "code",
        "colab": {}
      },
      "source": [
        "top_scorers = df.sort_values(by = 'total_score', ascending = False)[[\"app_name\",\"growth_score\", \n",
        "                               \"daily_growth_score\", \n",
        "                               \"max_growth_score\", \n",
        "                               \"top_rank_days_score\", \n",
        "                               \"top_rank_score\",\n",
        "                               \"rating_oo5_score\",\n",
        "                               \"active_days_score\",\n",
        "                                \"developer_score\",\n",
        "                                 \"category_score\",\n",
        "                                  \"subscription_score\", \"total_score\"]].head(10)"
      ],
      "execution_count": 0,
      "outputs": []
    },
    {
      "cell_type": "code",
      "metadata": {
        "id": "-shnSBNyrhXx",
        "colab_type": "code",
        "colab": {}
      },
      "source": [
        "top_scorers.to_excel('top_scorers.xlsx',index_label=None, index=False)"
      ],
      "execution_count": 0,
      "outputs": []
    },
    {
      "cell_type": "code",
      "metadata": {
        "id": "M4QPbxAScO3j",
        "colab_type": "code",
        "outputId": "21eaeacd-c781-4975-ebb3-8b1811ae1548",
        "colab": {
          "base_uri": "https://localhost:8080/",
          "height": 284
        }
      },
      "source": [
        "sns.barplot(data = top_scorers, y = 'app_name', x = 'total_score');"
      ],
      "execution_count": 0,
      "outputs": [
        {
          "output_type": "display_data",
          "data": {
            "image/png": "[encoded data removed]",
            "text/plain": [
              "<Figure size 432x288 with 1 Axes>"
            ]
          },
          "metadata": {
            "tags": []
          }
        }
      ]
    },
    {
      "cell_type": "code",
      "metadata": {
        "id": "1Ajpb-0kecbd",
        "colab_type": "code",
        "outputId": "5fd07d92-a83b-4852-ef48-8f8a65bbc263",
        "colab": {
          "base_uri": "https://localhost:8080/",
          "height": 284
        }
      },
      "source": [
        "sns.barplot(data = tcg_magic, y = 'app_name', x = 'total_score');"
      ],
      "execution_count": 0,
      "outputs": [
        {
          "output_type": "display_data",
          "data": {
            "image/png": "[encoded data removed]",
            "text/plain": [
              "<Figure size 432x288 with 1 Axes>"
            ]
          },
          "metadata": {
            "tags": []
          }
        }
      ]
    },
    {
      "cell_type": "code",
      "metadata": {
        "id": "PmiP9QrQhy67",
        "colab_type": "code",
        "colab": {}
      },
      "source": [
        ""
      ],
      "execution_count": 0,
      "outputs": []
    }
  ]
}